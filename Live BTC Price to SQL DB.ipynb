{
 "cells": [
  {
   "cell_type": "markdown",
   "id": "5726f40c",
   "metadata": {},
   "source": [
    "### <h1 style=\"font-size:3rem;color:orange;\">Live BTC Price to SQL DB</h>"
   ]
  },
  {
   "cell_type": "markdown",
   "id": "39c1e0a8",
   "metadata": {},
   "source": [
    "## Script 1 of 2"
   ]
  },
  {
   "cell_type": "markdown",
   "id": "8601de19",
   "metadata": {},
   "source": [
    "<img src=\"https://i.ytimg.com/vi/rc_Y6rdBqXM/hqdefault.jpg?sqp=-oaymwEcCPYBEIoBSFXyq4qpAw4IARUAAIhCGAFwAcABBg==&rs=AOn4CLB0GVXqQpmT9by0085J4vgquJV90g\">"
   ]
  },
  {
   "cell_type": "code",
   "execution_count": 1,
   "id": "9f4e01e8",
   "metadata": {},
   "outputs": [],
   "source": [
    "# https://www.youtube.com/watch?v=rc_Y6rdBqXM&t=590s&ab_channel=Algovibes"
   ]
  },
  {
   "cell_type": "code",
   "execution_count": 2,
   "id": "bfe67083",
   "metadata": {},
   "outputs": [],
   "source": [
    "import pandas as pd\n",
    "import sqlalchemy\n",
    "from binance.client import Client\n",
    "from binance import BinanceSocketManager"
   ]
  },
  {
   "cell_type": "code",
   "execution_count": 3,
   "id": "64e09844",
   "metadata": {},
   "outputs": [],
   "source": [
    "apikey = 'COQgGHF2BnHaYbrKt1aux6hFwX89UCXIlHGEj0lMmIVEpFm8g0ikSnMmlxMbKN9k'\n",
    "apise = 'H5uiUgckJ0A1gTkj5hX8MBdoc1h9QJiJD542fXHXiZ46KtuGH6ruEq7ox60UT1i9'\n",
    "client = Client(apikey,apise)"
   ]
  },
  {
   "cell_type": "code",
   "execution_count": 4,
   "id": "73e8e264",
   "metadata": {},
   "outputs": [],
   "source": [
    "bsm = BinanceSocketManager(client)"
   ]
  },
  {
   "cell_type": "code",
   "execution_count": 5,
   "id": "76ce087d",
   "metadata": {},
   "outputs": [],
   "source": [
    "engine = sqlalchemy.create_engine('sqlite:///BTCUSDTstream.db')"
   ]
  },
  {
   "cell_type": "code",
   "execution_count": 6,
   "id": "78d59f17",
   "metadata": {},
   "outputs": [],
   "source": [
    "socket = bsm.trade_socket('BTCUSDT')"
   ]
  },
  {
   "cell_type": "code",
   "execution_count": 7,
   "id": "32db6f1c",
   "metadata": {},
   "outputs": [],
   "source": [
    "def createframe(msg):\n",
    "    df = pd.DataFrame([msg])\n",
    "    df = df.loc[:,['s','E','p']]\n",
    "    df.columns = ['symbol','Time','Price']\n",
    "    df.Price = df.Price.astype(float)\n",
    "    df.Time = pd.to_datetime(df.Time, unit='ms')\n",
    "    return df"
   ]
  },
  {
   "cell_type": "code",
   "execution_count": null,
   "id": "1ef562e6",
   "metadata": {},
   "outputs": [
    {
     "name": "stdout",
     "output_type": "stream",
     "text": [
      "    symbol                    Time     Price\n",
      "0  BTCUSDT 2022-05-29 16:30:17.776  29302.78\n",
      "    symbol                    Time     Price\n",
      "0  BTCUSDT 2022-05-29 16:30:17.807  29302.78\n",
      "    symbol                    Time     Price\n",
      "0  BTCUSDT 2022-05-29 16:30:17.894  29302.77\n",
      "    symbol                    Time     Price\n",
      "0  BTCUSDT 2022-05-29 16:30:17.894  29302.76\n",
      "    symbol                    Time     Price\n",
      "0  BTCUSDT 2022-05-29 16:30:17.910  29302.76\n",
      "    symbol                    Time     Price\n",
      "0  BTCUSDT 2022-05-29 16:30:17.910  29302.76\n",
      "    symbol                    Time     Price\n",
      "0  BTCUSDT 2022-05-29 16:30:17.910  29302.76\n",
      "    symbol                    Time    Price\n",
      "0  BTCUSDT 2022-05-29 16:30:17.921  29302.7\n",
      "    symbol                    Time    Price\n",
      "0  BTCUSDT 2022-05-29 16:30:17.921  29302.7\n",
      "    symbol                    Time    Price\n",
      "0  BTCUSDT 2022-05-29 16:30:17.969  29302.1\n",
      "    symbol                    Time    Price\n",
      "0  BTCUSDT 2022-05-29 16:30:17.969  29302.1\n",
      "    symbol                    Time    Price\n",
      "0  BTCUSDT 2022-05-29 16:30:17.996  29302.1\n"
     ]
    }
   ],
   "source": [
    "while True:\n",
    "    await socket.__aenter__()\n",
    "    msg = await socket.recv()\n",
    "    frame = createframe(msg)\n",
    "    frame.to_sql('BTCUSDT', engine, if_exists='append', index=False)\n",
    "    print(frame)"
   ]
  }
 ],
 "metadata": {
  "kernelspec": {
   "display_name": "Python 3 (ipykernel)",
   "language": "python",
   "name": "python3"
  },
  "language_info": {
   "codemirror_mode": {
    "name": "ipython",
    "version": 3
   },
   "file_extension": ".py",
   "mimetype": "text/x-python",
   "name": "python",
   "nbconvert_exporter": "python",
   "pygments_lexer": "ipython3",
   "version": "3.9.12"
  }
 },
 "nbformat": 4,
 "nbformat_minor": 5
}
